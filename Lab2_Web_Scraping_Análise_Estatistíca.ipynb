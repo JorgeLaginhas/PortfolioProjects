{
 "cells": [
  {
   "cell_type": "markdown",
   "id": "a7f2c6a3",
   "metadata": {},
   "source": [
    "<strong><b><font size=\"5\">Web Scraping e Análise de Dados</font></b></strong>"
   ]
  },
  {
   "cell_type": "markdown",
   "id": "3f1378c0",
   "metadata": {},
   "source": [
    "<strong><b><font size=\"5\">Lab 2</font></b></strong>\n",
    "\n",
    "<strong><b><font size=\"4\">Web Scraping e Análise Estatística - Avaliando o Desempenho dos Participantes em Corridas de 10 KM com Dados de Sensores RFID</font></b></strong>"
   ]
  },
  {
   "cell_type": "markdown",
   "id": "143ce422",
   "metadata": {},
   "source": [
    "## Definição do Problema\n",
    "\n",
    "Neste Lab vamos coletar dados reais de participantes de uma corrida de 10 KM realizada em Hillsboro no Oregon, EUA, em junho de 2017. \n",
    "\n",
    "O objetivo desta análise é encontrar:\n",
    "    \n",
    "- O tempo médio de conclusão da corrida.\n",
    "- Se os tempos de chegada dos corredores seguem uma distribuição normal.\n",
    "- Analisar se há diferença de desempenho entre homens e mulheres de várias faixas etárias.\n",
    "\n",
    "Os tempos registrados na corrida (bem como outros dados) são bem precisos pois os participantes usaram sensores RFID de onde os dados foram extraídos e disponibilizados na web. Mais detalhes sobre o uso dos sensores RFID aqui:\n",
    "\n",
    "https://www.hubertiming.com/runners/faq"
   ]
  },
  {
   "cell_type": "markdown",
   "id": "de69ea9c",
   "metadata": {},
   "source": [
    "## Fonte de Dados\n",
    "\n",
    "Como fonte de dados usaremos o web site <a href=\"https://www.hubertiming.com/\">Huber Timing</a> que contém o resultado das corridas que acontecem nos EUA, bem como a agenda de novos eventos.\n",
    "\n",
    "Aqui a página com o resultado da corrida que faremos a análise:\n",
    "\n",
    "https://www.hubertiming.com/results/2017GPTR10K"
   ]
  },
  {
   "cell_type": "markdown",
   "id": "bff4ccff",
   "metadata": {},
   "source": [
    "## Carregando os Pacotes Usados Neste Jupyter Notebook"
   ]
  },
  {
   "cell_type": "code",
   "execution_count": 1,
   "id": "6b2e426b",
   "metadata": {},
   "outputs": [
    {
     "name": "stdout",
     "output_type": "stream",
     "text": [
      "Versão da Linguagem Python Usada Neste Jupyter Notebook: 3.9.7\n"
     ]
    }
   ],
   "source": [
    "# Versão da Linguagem Python\n",
    "from platform import python_version\n",
    "print('Versão da Linguagem Python Usada Neste Jupyter Notebook:', python_version())"
   ]
  },
  {
   "cell_type": "code",
   "execution_count": 2,
   "id": "34f0eb9e",
   "metadata": {},
   "outputs": [],
   "source": [
    "# Usaremos o pacote Pingouin para algumas das análises estatísticas\n",
    "# https://pingouin-stats.org/index.html\n",
    "!pip install -q pingouin"
   ]
  },
  {
   "cell_type": "code",
   "execution_count": 103,
   "id": "ee4da56d",
   "metadata": {},
   "outputs": [],
   "source": [
    "# Imports\n",
    "import re\n",
    "import requests\n",
    "import matplotlib as m\n",
    "import numpy as np\n",
    "import pandas as pd\n",
    "import pingouin as pg\n",
    "import matplotlib.pyplot as plt\n",
    "import seaborn as sns\n",
    "from bs4 import BeautifulSoup as bs\n",
    "from urllib.request import urlopen\n",
    "from scipy import stats\n",
    "import warnings\n",
    "warnings.filterwarnings(\"ignore\", category=FutureWarning)\n",
    "\n",
    "# Imports para formatação dos gráficos\n",
    "sns.set_style('whitegrid')\n",
    "%matplotlib inline"
   ]
  },
  {
   "cell_type": "code",
   "execution_count": 4,
   "id": "dca2b8ec",
   "metadata": {},
   "outputs": [
    {
     "name": "stdout",
     "output_type": "stream",
     "text": [
      "Author: Data Science Academy\n",
      "\n",
      "seaborn   : 0.11.2\n",
      "pingouin  : 0.5.1\n",
      "re        : 2.2.1\n",
      "pandas    : 1.2.4\n",
      "numpy     : 1.20.3\n",
      "matplotlib: 3.4.3\n",
      "requests  : 2.26.0\n",
      "scipy     : 1.7.1\n",
      "\n"
     ]
    }
   ],
   "source": [
    "# Versões dos pacotes usados neste jupyter notebook\n",
    "%reload_ext watermark\n",
    "%watermark -a \"Data Science Academy\" --iversions"
   ]
  },
  {
   "cell_type": "markdown",
   "id": "c8a486c6",
   "metadata": {},
   "source": [
    "## Web Scraping"
   ]
  },
  {
   "cell_type": "code",
   "execution_count": 5,
   "id": "d4de6f89",
   "metadata": {},
   "outputs": [],
   "source": [
    "# Definindo o URL com o resultado da corrida\n",
    "url = 'https://www.hubertiming.com/results/2017GPTR10K'"
   ]
  },
  {
   "cell_type": "code",
   "execution_count": 6,
   "id": "73a28f57",
   "metadata": {},
   "outputs": [],
   "source": [
    "# Abre a conexão com o url\n",
    "html = urlopen(url)"
   ]
  },
  {
   "cell_type": "code",
   "execution_count": 7,
   "id": "d9a2350b",
   "metadata": {},
   "outputs": [],
   "source": [
    "# Extrai o código html\n",
    "soup = bs(html, 'lxml')"
   ]
  },
  {
   "cell_type": "code",
   "execution_count": 8,
   "id": "292e7769",
   "metadata": {},
   "outputs": [],
   "source": [
    "# Extrai o texto do código html\n",
    "texto = soup.get_text()"
   ]
  },
  {
   "cell_type": "code",
   "execution_count": 9,
   "id": "32259060",
   "metadata": {},
   "outputs": [
    {
     "name": "stdout",
     "output_type": "stream",
     "text": [
      "[<tr colspan=\"2\">\n",
      "<b>10K:</b>\n",
      "</tr>, <tr>\n",
      "<td>Finishers:</td>\n",
      "<td>577</td>\n",
      "</tr>, <tr>\n",
      "<td>Male:</td>\n",
      "<td>414</td>\n",
      "</tr>, <tr>\n",
      "<td>Female:</td>\n",
      "<td>163</td>\n",
      "</tr>, <tr class=\"header\">\n",
      "<th>Place</th>\n",
      "<th>Bib</th>\n",
      "<th>Name</th>\n",
      "<th>Gender</th>\n",
      "<th>City</th>\n",
      "<th>State</th>\n",
      "<th>Chip Time</th>\n",
      "<th>Gun Time</th>\n",
      "<th>Team</th>\n",
      "</tr>, <tr data-bib=\"814\">\n",
      "<td>1</td>\n",
      "<td>814</td>\n",
      "<td>\r\n",
      "\r\n",
      "                    JARED WILSON\r\n",
      "\r\n",
      "                </td>\n",
      "<td>M</td>\n",
      "<td>TIGARD</td>\n",
      "<td>OR</td>\n",
      "<td>36:21</td>\n",
      "<td>36:24</td>\n",
      "<td></td>\n",
      "</tr>, <tr data-bib=\"573\">\n",
      "<td>2</td>\n",
      "<td>573</td>\n",
      "<td>\r\n",
      "\r\n",
      "                    NATHAN A SUSTERSIC\r\n",
      "\r\n",
      "                </td>\n",
      "<td>M</td>\n",
      "<td>PORTLAND</td>\n",
      "<td>OR</td>\n",
      "<td>36:42</td>\n",
      "<td>36:45</td>\n",
      "<td>\n",
      "<img class=\"lazy teamThumbs\" data-src=\"/teamLogoThumbnail/logo?teamName=INTEL%20TEAM%20F&amp;raceId=1251&amp;state=OR\"/>\r\n",
      "                            INTEL TEAM F\r\n",
      "                        </td>\n",
      "</tr>, <tr data-bib=\"687\">\n",
      "<td>3</td>\n",
      "<td>687</td>\n",
      "<td>\r\n",
      "\r\n",
      "                    FRANCISCO MAYA\r\n",
      "\r\n",
      "                </td>\n",
      "<td>M</td>\n",
      "<td>PORTLAND</td>\n",
      "<td>OR</td>\n",
      "<td>37:44</td>\n",
      "<td>37:48</td>\n",
      "<td></td>\n",
      "</tr>, <tr data-bib=\"623\">\n",
      "<td>4</td>\n",
      "<td>623</td>\n",
      "<td>\r\n",
      "\r\n",
      "                    PAUL MORROW\r\n",
      "\r\n",
      "                </td>\n",
      "<td>M</td>\n",
      "<td>BEAVERTON</td>\n",
      "<td>OR</td>\n",
      "<td>38:34</td>\n",
      "<td>38:37</td>\n",
      "<td></td>\n",
      "</tr>, <tr data-bib=\"569\">\n",
      "<td>5</td>\n",
      "<td>569</td>\n",
      "<td>\r\n",
      "\r\n",
      "                    DEREK G OSBORNE\r\n",
      "\r\n",
      "                </td>\n",
      "<td>M</td>\n",
      "<td>HILLSBORO</td>\n",
      "<td>OR</td>\n",
      "<td>39:21</td>\n",
      "<td>39:24</td>\n",
      "<td>\n",
      "<img class=\"lazy teamThumbs\" data-src=\"/teamLogoThumbnail/logo?teamName=INTEL%20TEAM%20F&amp;raceId=1251&amp;state=OR\"/>\r\n",
      "                            INTEL TEAM F\r\n",
      "                        </td>\n",
      "</tr>]\n"
     ]
    }
   ],
   "source": [
    "# Vamos visualizar as 10 primeiras linhas\n",
    "linhas = soup.find_all('tr')\n",
    "print((linhas[:10]))"
   ]
  },
  {
   "cell_type": "markdown",
   "id": "acfa9dcc",
   "metadata": {},
   "source": [
    "## Limpeza e Transformação\n",
    "\n",
    "Começaremos obtendo todas as linhas da tabela em forma de lista e depois converteremos essa lista em um dataframe para facilitar a manipulação."
   ]
  },
  {
   "cell_type": "code",
   "execution_count": 10,
   "id": "efcba710",
   "metadata": {},
   "outputs": [],
   "source": [
    "# Loop\n",
    "for linha in linhas:\n",
    "    linha_td = linha.find_all('td')"
   ]
  },
  {
   "cell_type": "code",
   "execution_count": 11,
   "id": "80182217",
   "metadata": {},
   "outputs": [
    {
     "name": "stdout",
     "output_type": "stream",
     "text": [
      "[<td>577</td>, <td>443</td>, <td>\r\n",
      "\r\n",
      "                    LIBBY B MITCHELL\r\n",
      "\r\n",
      "                </td>, <td>F</td>, <td>HILLSBORO</td>, <td>OR</td>, <td>1:41:18</td>, <td>1:42:10</td>, <td></td>]\n"
     ]
    }
   ],
   "source": [
    "print(linha_td)"
   ]
  },
  {
   "cell_type": "markdown",
   "id": "a013442a",
   "metadata": {},
   "source": [
    "Com expressões regulares em Python, vamos extrair os dados das tags HTML."
   ]
  },
  {
   "cell_type": "code",
   "execution_count": 12,
   "id": "066da273",
   "metadata": {},
   "outputs": [],
   "source": [
    "# Lista vazia para receber as linhas\n",
    "lista_linhas = []"
   ]
  },
  {
   "cell_type": "code",
   "execution_count": 13,
   "id": "8a14ddec",
   "metadata": {},
   "outputs": [],
   "source": [
    "# Loop\n",
    "for linha in linhas:\n",
    "    cells = linha.find_all('td')\n",
    "    str_cells = str(cells)\n",
    "    clean = re.compile('<.*?>')\n",
    "    clean2 = (re.sub(clean, '', str_cells))\n",
    "    lista_linhas.append(clean2)"
   ]
  },
  {
   "cell_type": "code",
   "execution_count": 14,
   "id": "1de9ce6f",
   "metadata": {},
   "outputs": [
    {
     "name": "stdout",
     "output_type": "stream",
     "text": [
      "[577, 443, \r\n",
      "\r\n",
      "                    LIBBY B MITCHELL\r\n",
      "\r\n",
      "                , F, HILLSBORO, OR, 1:41:18, 1:42:10, ]\n"
     ]
    }
   ],
   "source": [
    "print(clean2)"
   ]
  },
  {
   "cell_type": "markdown",
   "id": "e4330d44",
   "metadata": {},
   "source": [
    "Convertemos a lista num dataframe e obtemos uma visão rápida das 10 primeiras linhas usando o Pandas."
   ]
  },
  {
   "cell_type": "code",
   "execution_count": 15,
   "id": "8993cc4f",
   "metadata": {},
   "outputs": [],
   "source": [
    "# Convertemos a lista em dataframe\n",
    "df = pd.DataFrame(lista_linhas)"
   ]
  },
  {
   "cell_type": "code",
   "execution_count": 16,
   "id": "027a6ba4",
   "metadata": {},
   "outputs": [
    {
     "data": {
      "text/html": [
       "<div>\n",
       "<style scoped>\n",
       "    .dataframe tbody tr th:only-of-type {\n",
       "        vertical-align: middle;\n",
       "    }\n",
       "\n",
       "    .dataframe tbody tr th {\n",
       "        vertical-align: top;\n",
       "    }\n",
       "\n",
       "    .dataframe thead th {\n",
       "        text-align: right;\n",
       "    }\n",
       "</style>\n",
       "<table border=\"1\" class=\"dataframe\">\n",
       "  <thead>\n",
       "    <tr style=\"text-align: right;\">\n",
       "      <th></th>\n",
       "      <th>0</th>\n",
       "    </tr>\n",
       "  </thead>\n",
       "  <tbody>\n",
       "    <tr>\n",
       "      <th>0</th>\n",
       "      <td>[]</td>\n",
       "    </tr>\n",
       "    <tr>\n",
       "      <th>1</th>\n",
       "      <td>[Finishers:, 577]</td>\n",
       "    </tr>\n",
       "    <tr>\n",
       "      <th>2</th>\n",
       "      <td>[Male:, 414]</td>\n",
       "    </tr>\n",
       "    <tr>\n",
       "      <th>3</th>\n",
       "      <td>[Female:, 163]</td>\n",
       "    </tr>\n",
       "    <tr>\n",
       "      <th>4</th>\n",
       "      <td>[]</td>\n",
       "    </tr>\n",
       "    <tr>\n",
       "      <th>5</th>\n",
       "      <td>[1, 814, \\r\\n\\r\\n                    JARED WIL...</td>\n",
       "    </tr>\n",
       "    <tr>\n",
       "      <th>6</th>\n",
       "      <td>[2, 573, \\r\\n\\r\\n                    NATHAN A ...</td>\n",
       "    </tr>\n",
       "    <tr>\n",
       "      <th>7</th>\n",
       "      <td>[3, 687, \\r\\n\\r\\n                    FRANCISCO...</td>\n",
       "    </tr>\n",
       "    <tr>\n",
       "      <th>8</th>\n",
       "      <td>[4, 623, \\r\\n\\r\\n                    PAUL MORR...</td>\n",
       "    </tr>\n",
       "    <tr>\n",
       "      <th>9</th>\n",
       "      <td>[5, 569, \\r\\n\\r\\n                    DEREK G O...</td>\n",
       "    </tr>\n",
       "  </tbody>\n",
       "</table>\n",
       "</div>"
      ],
      "text/plain": [
       "                                                   0\n",
       "0                                                 []\n",
       "1                                  [Finishers:, 577]\n",
       "2                                       [Male:, 414]\n",
       "3                                     [Female:, 163]\n",
       "4                                                 []\n",
       "5  [1, 814, \\r\\n\\r\\n                    JARED WIL...\n",
       "6  [2, 573, \\r\\n\\r\\n                    NATHAN A ...\n",
       "7  [3, 687, \\r\\n\\r\\n                    FRANCISCO...\n",
       "8  [4, 623, \\r\\n\\r\\n                    PAUL MORR...\n",
       "9  [5, 569, \\r\\n\\r\\n                    DEREK G O..."
      ]
     },
     "execution_count": 16,
     "metadata": {},
     "output_type": "execute_result"
    }
   ],
   "source": [
    "df.head(10)"
   ]
  },
  {
   "cell_type": "markdown",
   "id": "10be8cce",
   "metadata": {},
   "source": [
    "Claramente precisamos limpar os dados."
   ]
  },
  {
   "cell_type": "code",
   "execution_count": 17,
   "id": "0ed7369c",
   "metadata": {},
   "outputs": [],
   "source": [
    "# Dividindo cada linha e separar os dados a cada vírgula\n",
    "df1 = df[0].str.split(',', expand= True)"
   ]
  },
  {
   "cell_type": "code",
   "execution_count": 18,
   "id": "5992a21d",
   "metadata": {},
   "outputs": [
    {
     "data": {
      "text/html": [
       "<div>\n",
       "<style scoped>\n",
       "    .dataframe tbody tr th:only-of-type {\n",
       "        vertical-align: middle;\n",
       "    }\n",
       "\n",
       "    .dataframe tbody tr th {\n",
       "        vertical-align: top;\n",
       "    }\n",
       "\n",
       "    .dataframe thead th {\n",
       "        text-align: right;\n",
       "    }\n",
       "</style>\n",
       "<table border=\"1\" class=\"dataframe\">\n",
       "  <thead>\n",
       "    <tr style=\"text-align: right;\">\n",
       "      <th></th>\n",
       "      <th>0</th>\n",
       "      <th>1</th>\n",
       "      <th>2</th>\n",
       "      <th>3</th>\n",
       "      <th>4</th>\n",
       "      <th>5</th>\n",
       "      <th>6</th>\n",
       "      <th>7</th>\n",
       "      <th>8</th>\n",
       "    </tr>\n",
       "  </thead>\n",
       "  <tbody>\n",
       "    <tr>\n",
       "      <th>0</th>\n",
       "      <td>[]</td>\n",
       "      <td>None</td>\n",
       "      <td>None</td>\n",
       "      <td>None</td>\n",
       "      <td>None</td>\n",
       "      <td>None</td>\n",
       "      <td>None</td>\n",
       "      <td>None</td>\n",
       "      <td>None</td>\n",
       "    </tr>\n",
       "    <tr>\n",
       "      <th>1</th>\n",
       "      <td>[Finishers:</td>\n",
       "      <td>577]</td>\n",
       "      <td>None</td>\n",
       "      <td>None</td>\n",
       "      <td>None</td>\n",
       "      <td>None</td>\n",
       "      <td>None</td>\n",
       "      <td>None</td>\n",
       "      <td>None</td>\n",
       "    </tr>\n",
       "    <tr>\n",
       "      <th>2</th>\n",
       "      <td>[Male:</td>\n",
       "      <td>414]</td>\n",
       "      <td>None</td>\n",
       "      <td>None</td>\n",
       "      <td>None</td>\n",
       "      <td>None</td>\n",
       "      <td>None</td>\n",
       "      <td>None</td>\n",
       "      <td>None</td>\n",
       "    </tr>\n",
       "    <tr>\n",
       "      <th>3</th>\n",
       "      <td>[Female:</td>\n",
       "      <td>163]</td>\n",
       "      <td>None</td>\n",
       "      <td>None</td>\n",
       "      <td>None</td>\n",
       "      <td>None</td>\n",
       "      <td>None</td>\n",
       "      <td>None</td>\n",
       "      <td>None</td>\n",
       "    </tr>\n",
       "    <tr>\n",
       "      <th>4</th>\n",
       "      <td>[]</td>\n",
       "      <td>None</td>\n",
       "      <td>None</td>\n",
       "      <td>None</td>\n",
       "      <td>None</td>\n",
       "      <td>None</td>\n",
       "      <td>None</td>\n",
       "      <td>None</td>\n",
       "      <td>None</td>\n",
       "    </tr>\n",
       "    <tr>\n",
       "      <th>5</th>\n",
       "      <td>[1</td>\n",
       "      <td>814</td>\n",
       "      <td>\\r\\n\\r\\n                    JARED WILSON\\r\\n\\...</td>\n",
       "      <td>M</td>\n",
       "      <td>TIGARD</td>\n",
       "      <td>OR</td>\n",
       "      <td>36:21</td>\n",
       "      <td>36:24</td>\n",
       "      <td>]</td>\n",
       "    </tr>\n",
       "    <tr>\n",
       "      <th>6</th>\n",
       "      <td>[2</td>\n",
       "      <td>573</td>\n",
       "      <td>\\r\\n\\r\\n                    NATHAN A SUSTERSI...</td>\n",
       "      <td>M</td>\n",
       "      <td>PORTLAND</td>\n",
       "      <td>OR</td>\n",
       "      <td>36:42</td>\n",
       "      <td>36:45</td>\n",
       "      <td>\\n\\r\\n                            INTEL TEAM ...</td>\n",
       "    </tr>\n",
       "    <tr>\n",
       "      <th>7</th>\n",
       "      <td>[3</td>\n",
       "      <td>687</td>\n",
       "      <td>\\r\\n\\r\\n                    FRANCISCO MAYA\\r\\...</td>\n",
       "      <td>M</td>\n",
       "      <td>PORTLAND</td>\n",
       "      <td>OR</td>\n",
       "      <td>37:44</td>\n",
       "      <td>37:48</td>\n",
       "      <td>]</td>\n",
       "    </tr>\n",
       "    <tr>\n",
       "      <th>8</th>\n",
       "      <td>[4</td>\n",
       "      <td>623</td>\n",
       "      <td>\\r\\n\\r\\n                    PAUL MORROW\\r\\n\\r...</td>\n",
       "      <td>M</td>\n",
       "      <td>BEAVERTON</td>\n",
       "      <td>OR</td>\n",
       "      <td>38:34</td>\n",
       "      <td>38:37</td>\n",
       "      <td>]</td>\n",
       "    </tr>\n",
       "    <tr>\n",
       "      <th>9</th>\n",
       "      <td>[5</td>\n",
       "      <td>569</td>\n",
       "      <td>\\r\\n\\r\\n                    DEREK G OSBORNE\\r...</td>\n",
       "      <td>M</td>\n",
       "      <td>HILLSBORO</td>\n",
       "      <td>OR</td>\n",
       "      <td>39:21</td>\n",
       "      <td>39:24</td>\n",
       "      <td>\\n\\r\\n                            INTEL TEAM ...</td>\n",
       "    </tr>\n",
       "  </tbody>\n",
       "</table>\n",
       "</div>"
      ],
      "text/plain": [
       "             0      1                                                  2  \\\n",
       "0           []   None                                               None   \n",
       "1  [Finishers:   577]                                               None   \n",
       "2       [Male:   414]                                               None   \n",
       "3     [Female:   163]                                               None   \n",
       "4           []   None                                               None   \n",
       "5           [1    814   \\r\\n\\r\\n                    JARED WILSON\\r\\n\\...   \n",
       "6           [2    573   \\r\\n\\r\\n                    NATHAN A SUSTERSI...   \n",
       "7           [3    687   \\r\\n\\r\\n                    FRANCISCO MAYA\\r\\...   \n",
       "8           [4    623   \\r\\n\\r\\n                    PAUL MORROW\\r\\n\\r...   \n",
       "9           [5    569   \\r\\n\\r\\n                    DEREK G OSBORNE\\r...   \n",
       "\n",
       "      3           4     5       6       7  \\\n",
       "0  None        None  None    None    None   \n",
       "1  None        None  None    None    None   \n",
       "2  None        None  None    None    None   \n",
       "3  None        None  None    None    None   \n",
       "4  None        None  None    None    None   \n",
       "5     M      TIGARD    OR   36:21   36:24   \n",
       "6     M    PORTLAND    OR   36:42   36:45   \n",
       "7     M    PORTLAND    OR   37:44   37:48   \n",
       "8     M   BEAVERTON    OR   38:34   38:37   \n",
       "9     M   HILLSBORO    OR   39:21   39:24   \n",
       "\n",
       "                                                   8  \n",
       "0                                               None  \n",
       "1                                               None  \n",
       "2                                               None  \n",
       "3                                               None  \n",
       "4                                               None  \n",
       "5                                                  ]  \n",
       "6   \\n\\r\\n                            INTEL TEAM ...  \n",
       "7                                                  ]  \n",
       "8                                                  ]  \n",
       "9   \\n\\r\\n                            INTEL TEAM ...  "
      ]
     },
     "execution_count": 18,
     "metadata": {},
     "output_type": "execute_result"
    }
   ],
   "source": [
    "df1.head(10)"
   ]
  },
  {
   "cell_type": "markdown",
   "id": "ba53cc90",
   "metadata": {},
   "source": [
    "Vamos fazer mais algumas limpezas. "
   ]
  },
  {
   "cell_type": "code",
   "execution_count": 19,
   "id": "27e4e39e",
   "metadata": {},
   "outputs": [],
   "source": [
    "# Removemos colchetes de abertura (lado esquerdo) do texto\n",
    "df1[0] = df1[0].str.strip('[')"
   ]
  },
  {
   "cell_type": "code",
   "execution_count": 20,
   "id": "40047b90",
   "metadata": {},
   "outputs": [
    {
     "data": {
      "text/html": [
       "<div>\n",
       "<style scoped>\n",
       "    .dataframe tbody tr th:only-of-type {\n",
       "        vertical-align: middle;\n",
       "    }\n",
       "\n",
       "    .dataframe tbody tr th {\n",
       "        vertical-align: top;\n",
       "    }\n",
       "\n",
       "    .dataframe thead th {\n",
       "        text-align: right;\n",
       "    }\n",
       "</style>\n",
       "<table border=\"1\" class=\"dataframe\">\n",
       "  <thead>\n",
       "    <tr style=\"text-align: right;\">\n",
       "      <th></th>\n",
       "      <th>0</th>\n",
       "      <th>1</th>\n",
       "      <th>2</th>\n",
       "      <th>3</th>\n",
       "      <th>4</th>\n",
       "      <th>5</th>\n",
       "      <th>6</th>\n",
       "      <th>7</th>\n",
       "      <th>8</th>\n",
       "    </tr>\n",
       "  </thead>\n",
       "  <tbody>\n",
       "    <tr>\n",
       "      <th>0</th>\n",
       "      <td>]</td>\n",
       "      <td>None</td>\n",
       "      <td>None</td>\n",
       "      <td>None</td>\n",
       "      <td>None</td>\n",
       "      <td>None</td>\n",
       "      <td>None</td>\n",
       "      <td>None</td>\n",
       "      <td>None</td>\n",
       "    </tr>\n",
       "    <tr>\n",
       "      <th>1</th>\n",
       "      <td>Finishers:</td>\n",
       "      <td>577]</td>\n",
       "      <td>None</td>\n",
       "      <td>None</td>\n",
       "      <td>None</td>\n",
       "      <td>None</td>\n",
       "      <td>None</td>\n",
       "      <td>None</td>\n",
       "      <td>None</td>\n",
       "    </tr>\n",
       "    <tr>\n",
       "      <th>2</th>\n",
       "      <td>Male:</td>\n",
       "      <td>414]</td>\n",
       "      <td>None</td>\n",
       "      <td>None</td>\n",
       "      <td>None</td>\n",
       "      <td>None</td>\n",
       "      <td>None</td>\n",
       "      <td>None</td>\n",
       "      <td>None</td>\n",
       "    </tr>\n",
       "    <tr>\n",
       "      <th>3</th>\n",
       "      <td>Female:</td>\n",
       "      <td>163]</td>\n",
       "      <td>None</td>\n",
       "      <td>None</td>\n",
       "      <td>None</td>\n",
       "      <td>None</td>\n",
       "      <td>None</td>\n",
       "      <td>None</td>\n",
       "      <td>None</td>\n",
       "    </tr>\n",
       "    <tr>\n",
       "      <th>4</th>\n",
       "      <td>]</td>\n",
       "      <td>None</td>\n",
       "      <td>None</td>\n",
       "      <td>None</td>\n",
       "      <td>None</td>\n",
       "      <td>None</td>\n",
       "      <td>None</td>\n",
       "      <td>None</td>\n",
       "      <td>None</td>\n",
       "    </tr>\n",
       "    <tr>\n",
       "      <th>5</th>\n",
       "      <td>1</td>\n",
       "      <td>814</td>\n",
       "      <td>\\r\\n\\r\\n                    JARED WILSON\\r\\n\\...</td>\n",
       "      <td>M</td>\n",
       "      <td>TIGARD</td>\n",
       "      <td>OR</td>\n",
       "      <td>36:21</td>\n",
       "      <td>36:24</td>\n",
       "      <td>]</td>\n",
       "    </tr>\n",
       "    <tr>\n",
       "      <th>6</th>\n",
       "      <td>2</td>\n",
       "      <td>573</td>\n",
       "      <td>\\r\\n\\r\\n                    NATHAN A SUSTERSI...</td>\n",
       "      <td>M</td>\n",
       "      <td>PORTLAND</td>\n",
       "      <td>OR</td>\n",
       "      <td>36:42</td>\n",
       "      <td>36:45</td>\n",
       "      <td>\\n\\r\\n                            INTEL TEAM ...</td>\n",
       "    </tr>\n",
       "    <tr>\n",
       "      <th>7</th>\n",
       "      <td>3</td>\n",
       "      <td>687</td>\n",
       "      <td>\\r\\n\\r\\n                    FRANCISCO MAYA\\r\\...</td>\n",
       "      <td>M</td>\n",
       "      <td>PORTLAND</td>\n",
       "      <td>OR</td>\n",
       "      <td>37:44</td>\n",
       "      <td>37:48</td>\n",
       "      <td>]</td>\n",
       "    </tr>\n",
       "    <tr>\n",
       "      <th>8</th>\n",
       "      <td>4</td>\n",
       "      <td>623</td>\n",
       "      <td>\\r\\n\\r\\n                    PAUL MORROW\\r\\n\\r...</td>\n",
       "      <td>M</td>\n",
       "      <td>BEAVERTON</td>\n",
       "      <td>OR</td>\n",
       "      <td>38:34</td>\n",
       "      <td>38:37</td>\n",
       "      <td>]</td>\n",
       "    </tr>\n",
       "    <tr>\n",
       "      <th>9</th>\n",
       "      <td>5</td>\n",
       "      <td>569</td>\n",
       "      <td>\\r\\n\\r\\n                    DEREK G OSBORNE\\r...</td>\n",
       "      <td>M</td>\n",
       "      <td>HILLSBORO</td>\n",
       "      <td>OR</td>\n",
       "      <td>39:21</td>\n",
       "      <td>39:24</td>\n",
       "      <td>\\n\\r\\n                            INTEL TEAM ...</td>\n",
       "    </tr>\n",
       "  </tbody>\n",
       "</table>\n",
       "</div>"
      ],
      "text/plain": [
       "            0      1                                                  2     3  \\\n",
       "0           ]   None                                               None  None   \n",
       "1  Finishers:   577]                                               None  None   \n",
       "2       Male:   414]                                               None  None   \n",
       "3     Female:   163]                                               None  None   \n",
       "4           ]   None                                               None  None   \n",
       "5           1    814   \\r\\n\\r\\n                    JARED WILSON\\r\\n\\...     M   \n",
       "6           2    573   \\r\\n\\r\\n                    NATHAN A SUSTERSI...     M   \n",
       "7           3    687   \\r\\n\\r\\n                    FRANCISCO MAYA\\r\\...     M   \n",
       "8           4    623   \\r\\n\\r\\n                    PAUL MORROW\\r\\n\\r...     M   \n",
       "9           5    569   \\r\\n\\r\\n                    DEREK G OSBORNE\\r...     M   \n",
       "\n",
       "            4     5       6       7  \\\n",
       "0        None  None    None    None   \n",
       "1        None  None    None    None   \n",
       "2        None  None    None    None   \n",
       "3        None  None    None    None   \n",
       "4        None  None    None    None   \n",
       "5      TIGARD    OR   36:21   36:24   \n",
       "6    PORTLAND    OR   36:42   36:45   \n",
       "7    PORTLAND    OR   37:44   37:48   \n",
       "8   BEAVERTON    OR   38:34   38:37   \n",
       "9   HILLSBORO    OR   39:21   39:24   \n",
       "\n",
       "                                                   8  \n",
       "0                                               None  \n",
       "1                                               None  \n",
       "2                                               None  \n",
       "3                                               None  \n",
       "4                                               None  \n",
       "5                                                  ]  \n",
       "6   \\n\\r\\n                            INTEL TEAM ...  \n",
       "7                                                  ]  \n",
       "8                                                  ]  \n",
       "9   \\n\\r\\n                            INTEL TEAM ...  "
      ]
     },
     "execution_count": 20,
     "metadata": {},
     "output_type": "execute_result"
    }
   ],
   "source": [
    "df1.head(10)"
   ]
  },
  {
   "cell_type": "code",
   "execution_count": 21,
   "id": "72f39c93",
   "metadata": {},
   "outputs": [],
   "source": [
    "# Extraimos o cabeçalho de todas as tabelas no código HTML\n",
    "col_labels = soup.find_all('th')"
   ]
  },
  {
   "cell_type": "code",
   "execution_count": 22,
   "id": "2f99d56a",
   "metadata": {},
   "outputs": [
    {
     "data": {
      "text/plain": [
       "[<th>Place</th>,\n",
       " <th>Bib</th>,\n",
       " <th>Name</th>,\n",
       " <th>Gender</th>,\n",
       " <th>City</th>,\n",
       " <th>State</th>,\n",
       " <th>Chip Time</th>,\n",
       " <th>Gun Time</th>,\n",
       " <th>Team</th>]"
      ]
     },
     "execution_count": 22,
     "metadata": {},
     "output_type": "execute_result"
    }
   ],
   "source": [
    "col_labels"
   ]
  },
  {
   "cell_type": "code",
   "execution_count": 23,
   "id": "2dd23d24",
   "metadata": {},
   "outputs": [],
   "source": [
    "# Extraimos texto entre tags html dos cabeçalhos de tabela (extraimos o nome)\n",
    "all_header = []\n",
    "col_str = str(col_labels)\n",
    "cleantext2 = bs(col_str, 'lxml').get_text()\n",
    "all_header.append(cleantext2)"
   ]
  },
  {
   "cell_type": "code",
   "execution_count": 24,
   "id": "e041f8db",
   "metadata": {},
   "outputs": [
    {
     "name": "stdout",
     "output_type": "stream",
     "text": [
      "['[Place, Bib, Name, Gender, City, State, Chip Time, Gun Time, Team]']\n"
     ]
    }
   ],
   "source": [
    "print(all_header)"
   ]
  },
  {
   "cell_type": "code",
   "execution_count": 25,
   "id": "6c7178c6",
   "metadata": {},
   "outputs": [],
   "source": [
    "# Convertendo a lista de cabeçalhos num dataframe \n",
    "df2 = pd.DataFrame(all_header)"
   ]
  },
  {
   "cell_type": "code",
   "execution_count": 26,
   "id": "f76b5207",
   "metadata": {},
   "outputs": [
    {
     "data": {
      "text/html": [
       "<div>\n",
       "<style scoped>\n",
       "    .dataframe tbody tr th:only-of-type {\n",
       "        vertical-align: middle;\n",
       "    }\n",
       "\n",
       "    .dataframe tbody tr th {\n",
       "        vertical-align: top;\n",
       "    }\n",
       "\n",
       "    .dataframe thead th {\n",
       "        text-align: right;\n",
       "    }\n",
       "</style>\n",
       "<table border=\"1\" class=\"dataframe\">\n",
       "  <thead>\n",
       "    <tr style=\"text-align: right;\">\n",
       "      <th></th>\n",
       "      <th>0</th>\n",
       "    </tr>\n",
       "  </thead>\n",
       "  <tbody>\n",
       "    <tr>\n",
       "      <th>0</th>\n",
       "      <td>[Place, Bib, Name, Gender, City, State, Chip T...</td>\n",
       "    </tr>\n",
       "  </tbody>\n",
       "</table>\n",
       "</div>"
      ],
      "text/plain": [
       "                                                   0\n",
       "0  [Place, Bib, Name, Gender, City, State, Chip T..."
      ]
     },
     "execution_count": 26,
     "metadata": {},
     "output_type": "execute_result"
    }
   ],
   "source": [
    "df2.head()"
   ]
  },
  {
   "cell_type": "code",
   "execution_count": 27,
   "id": "9f6dc1fc",
   "metadata": {},
   "outputs": [],
   "source": [
    "# Dividindo a coluna '0' em várias colunas na posição de vírgula para todas as linhas\n",
    "df3 = df2[0].str.split(',', expand = True)"
   ]
  },
  {
   "cell_type": "code",
   "execution_count": 28,
   "id": "f05d1aca",
   "metadata": {},
   "outputs": [
    {
     "data": {
      "text/html": [
       "<div>\n",
       "<style scoped>\n",
       "    .dataframe tbody tr th:only-of-type {\n",
       "        vertical-align: middle;\n",
       "    }\n",
       "\n",
       "    .dataframe tbody tr th {\n",
       "        vertical-align: top;\n",
       "    }\n",
       "\n",
       "    .dataframe thead th {\n",
       "        text-align: right;\n",
       "    }\n",
       "</style>\n",
       "<table border=\"1\" class=\"dataframe\">\n",
       "  <thead>\n",
       "    <tr style=\"text-align: right;\">\n",
       "      <th></th>\n",
       "      <th>0</th>\n",
       "      <th>1</th>\n",
       "      <th>2</th>\n",
       "      <th>3</th>\n",
       "      <th>4</th>\n",
       "      <th>5</th>\n",
       "      <th>6</th>\n",
       "      <th>7</th>\n",
       "      <th>8</th>\n",
       "    </tr>\n",
       "  </thead>\n",
       "  <tbody>\n",
       "    <tr>\n",
       "      <th>0</th>\n",
       "      <td>[Place</td>\n",
       "      <td>Bib</td>\n",
       "      <td>Name</td>\n",
       "      <td>Gender</td>\n",
       "      <td>City</td>\n",
       "      <td>State</td>\n",
       "      <td>Chip Time</td>\n",
       "      <td>Gun Time</td>\n",
       "      <td>Team]</td>\n",
       "    </tr>\n",
       "  </tbody>\n",
       "</table>\n",
       "</div>"
      ],
      "text/plain": [
       "        0     1      2        3      4       5           6          7       8\n",
       "0  [Place   Bib   Name   Gender   City   State   Chip Time   Gun Time   Team]"
      ]
     },
     "execution_count": 28,
     "metadata": {},
     "output_type": "execute_result"
    }
   ],
   "source": [
    "df3.head()"
   ]
  },
  {
   "cell_type": "code",
   "execution_count": 29,
   "id": "76431561",
   "metadata": {},
   "outputs": [],
   "source": [
    "# Concatenar os dois dataframes\n",
    "frames = [df3, df1]\n",
    "df4 = pd.concat(frames)"
   ]
  },
  {
   "cell_type": "code",
   "execution_count": 30,
   "id": "068c76fb",
   "metadata": {},
   "outputs": [
    {
     "data": {
      "text/html": [
       "<div>\n",
       "<style scoped>\n",
       "    .dataframe tbody tr th:only-of-type {\n",
       "        vertical-align: middle;\n",
       "    }\n",
       "\n",
       "    .dataframe tbody tr th {\n",
       "        vertical-align: top;\n",
       "    }\n",
       "\n",
       "    .dataframe thead th {\n",
       "        text-align: right;\n",
       "    }\n",
       "</style>\n",
       "<table border=\"1\" class=\"dataframe\">\n",
       "  <thead>\n",
       "    <tr style=\"text-align: right;\">\n",
       "      <th></th>\n",
       "      <th>0</th>\n",
       "      <th>1</th>\n",
       "      <th>2</th>\n",
       "      <th>3</th>\n",
       "      <th>4</th>\n",
       "      <th>5</th>\n",
       "      <th>6</th>\n",
       "      <th>7</th>\n",
       "      <th>8</th>\n",
       "    </tr>\n",
       "  </thead>\n",
       "  <tbody>\n",
       "    <tr>\n",
       "      <th>0</th>\n",
       "      <td>[Place</td>\n",
       "      <td>Bib</td>\n",
       "      <td>Name</td>\n",
       "      <td>Gender</td>\n",
       "      <td>City</td>\n",
       "      <td>State</td>\n",
       "      <td>Chip Time</td>\n",
       "      <td>Gun Time</td>\n",
       "      <td>Team]</td>\n",
       "    </tr>\n",
       "    <tr>\n",
       "      <th>0</th>\n",
       "      <td>]</td>\n",
       "      <td>None</td>\n",
       "      <td>None</td>\n",
       "      <td>None</td>\n",
       "      <td>None</td>\n",
       "      <td>None</td>\n",
       "      <td>None</td>\n",
       "      <td>None</td>\n",
       "      <td>None</td>\n",
       "    </tr>\n",
       "    <tr>\n",
       "      <th>1</th>\n",
       "      <td>Finishers:</td>\n",
       "      <td>577]</td>\n",
       "      <td>None</td>\n",
       "      <td>None</td>\n",
       "      <td>None</td>\n",
       "      <td>None</td>\n",
       "      <td>None</td>\n",
       "      <td>None</td>\n",
       "      <td>None</td>\n",
       "    </tr>\n",
       "    <tr>\n",
       "      <th>2</th>\n",
       "      <td>Male:</td>\n",
       "      <td>414]</td>\n",
       "      <td>None</td>\n",
       "      <td>None</td>\n",
       "      <td>None</td>\n",
       "      <td>None</td>\n",
       "      <td>None</td>\n",
       "      <td>None</td>\n",
       "      <td>None</td>\n",
       "    </tr>\n",
       "    <tr>\n",
       "      <th>3</th>\n",
       "      <td>Female:</td>\n",
       "      <td>163]</td>\n",
       "      <td>None</td>\n",
       "      <td>None</td>\n",
       "      <td>None</td>\n",
       "      <td>None</td>\n",
       "      <td>None</td>\n",
       "      <td>None</td>\n",
       "      <td>None</td>\n",
       "    </tr>\n",
       "    <tr>\n",
       "      <th>4</th>\n",
       "      <td>]</td>\n",
       "      <td>None</td>\n",
       "      <td>None</td>\n",
       "      <td>None</td>\n",
       "      <td>None</td>\n",
       "      <td>None</td>\n",
       "      <td>None</td>\n",
       "      <td>None</td>\n",
       "      <td>None</td>\n",
       "    </tr>\n",
       "    <tr>\n",
       "      <th>5</th>\n",
       "      <td>1</td>\n",
       "      <td>814</td>\n",
       "      <td>\\r\\n\\r\\n                    JARED WILSON\\r\\n\\...</td>\n",
       "      <td>M</td>\n",
       "      <td>TIGARD</td>\n",
       "      <td>OR</td>\n",
       "      <td>36:21</td>\n",
       "      <td>36:24</td>\n",
       "      <td>]</td>\n",
       "    </tr>\n",
       "    <tr>\n",
       "      <th>6</th>\n",
       "      <td>2</td>\n",
       "      <td>573</td>\n",
       "      <td>\\r\\n\\r\\n                    NATHAN A SUSTERSI...</td>\n",
       "      <td>M</td>\n",
       "      <td>PORTLAND</td>\n",
       "      <td>OR</td>\n",
       "      <td>36:42</td>\n",
       "      <td>36:45</td>\n",
       "      <td>\\n\\r\\n                            INTEL TEAM ...</td>\n",
       "    </tr>\n",
       "    <tr>\n",
       "      <th>7</th>\n",
       "      <td>3</td>\n",
       "      <td>687</td>\n",
       "      <td>\\r\\n\\r\\n                    FRANCISCO MAYA\\r\\...</td>\n",
       "      <td>M</td>\n",
       "      <td>PORTLAND</td>\n",
       "      <td>OR</td>\n",
       "      <td>37:44</td>\n",
       "      <td>37:48</td>\n",
       "      <td>]</td>\n",
       "    </tr>\n",
       "    <tr>\n",
       "      <th>8</th>\n",
       "      <td>4</td>\n",
       "      <td>623</td>\n",
       "      <td>\\r\\n\\r\\n                    PAUL MORROW\\r\\n\\r...</td>\n",
       "      <td>M</td>\n",
       "      <td>BEAVERTON</td>\n",
       "      <td>OR</td>\n",
       "      <td>38:34</td>\n",
       "      <td>38:37</td>\n",
       "      <td>]</td>\n",
       "    </tr>\n",
       "  </tbody>\n",
       "</table>\n",
       "</div>"
      ],
      "text/plain": [
       "            0      1                                                  2  \\\n",
       "0      [Place    Bib                                               Name   \n",
       "0           ]   None                                               None   \n",
       "1  Finishers:   577]                                               None   \n",
       "2       Male:   414]                                               None   \n",
       "3     Female:   163]                                               None   \n",
       "4           ]   None                                               None   \n",
       "5           1    814   \\r\\n\\r\\n                    JARED WILSON\\r\\n\\...   \n",
       "6           2    573   \\r\\n\\r\\n                    NATHAN A SUSTERSI...   \n",
       "7           3    687   \\r\\n\\r\\n                    FRANCISCO MAYA\\r\\...   \n",
       "8           4    623   \\r\\n\\r\\n                    PAUL MORROW\\r\\n\\r...   \n",
       "\n",
       "         3           4       5           6          7  \\\n",
       "0   Gender        City   State   Chip Time   Gun Time   \n",
       "0     None        None    None        None       None   \n",
       "1     None        None    None        None       None   \n",
       "2     None        None    None        None       None   \n",
       "3     None        None    None        None       None   \n",
       "4     None        None    None        None       None   \n",
       "5        M      TIGARD      OR       36:21      36:24   \n",
       "6        M    PORTLAND      OR       36:42      36:45   \n",
       "7        M    PORTLAND      OR       37:44      37:48   \n",
       "8        M   BEAVERTON      OR       38:34      38:37   \n",
       "\n",
       "                                                   8  \n",
       "0                                              Team]  \n",
       "0                                               None  \n",
       "1                                               None  \n",
       "2                                               None  \n",
       "3                                               None  \n",
       "4                                               None  \n",
       "5                                                  ]  \n",
       "6   \\n\\r\\n                            INTEL TEAM ...  \n",
       "7                                                  ]  \n",
       "8                                                  ]  "
      ]
     },
     "execution_count": 30,
     "metadata": {},
     "output_type": "execute_result"
    }
   ],
   "source": [
    "df4.head(10)"
   ]
  },
  {
   "cell_type": "code",
   "execution_count": 31,
   "id": "99bf1d50",
   "metadata": {},
   "outputs": [],
   "source": [
    "# Atribuir a primeira coluna como cabeçalho\n",
    "df5 = df4.rename(columns= df4.iloc[0])"
   ]
  },
  {
   "cell_type": "code",
   "execution_count": 32,
   "id": "779d9b68",
   "metadata": {},
   "outputs": [
    {
     "data": {
      "text/html": [
       "<div>\n",
       "<style scoped>\n",
       "    .dataframe tbody tr th:only-of-type {\n",
       "        vertical-align: middle;\n",
       "    }\n",
       "\n",
       "    .dataframe tbody tr th {\n",
       "        vertical-align: top;\n",
       "    }\n",
       "\n",
       "    .dataframe thead th {\n",
       "        text-align: right;\n",
       "    }\n",
       "</style>\n",
       "<table border=\"1\" class=\"dataframe\">\n",
       "  <thead>\n",
       "    <tr style=\"text-align: right;\">\n",
       "      <th></th>\n",
       "      <th>[Place</th>\n",
       "      <th>Bib</th>\n",
       "      <th>Name</th>\n",
       "      <th>Gender</th>\n",
       "      <th>City</th>\n",
       "      <th>State</th>\n",
       "      <th>Chip Time</th>\n",
       "      <th>Gun Time</th>\n",
       "      <th>Team]</th>\n",
       "    </tr>\n",
       "  </thead>\n",
       "  <tbody>\n",
       "    <tr>\n",
       "      <th>0</th>\n",
       "      <td>[Place</td>\n",
       "      <td>Bib</td>\n",
       "      <td>Name</td>\n",
       "      <td>Gender</td>\n",
       "      <td>City</td>\n",
       "      <td>State</td>\n",
       "      <td>Chip Time</td>\n",
       "      <td>Gun Time</td>\n",
       "      <td>Team]</td>\n",
       "    </tr>\n",
       "    <tr>\n",
       "      <th>0</th>\n",
       "      <td>]</td>\n",
       "      <td>None</td>\n",
       "      <td>None</td>\n",
       "      <td>None</td>\n",
       "      <td>None</td>\n",
       "      <td>None</td>\n",
       "      <td>None</td>\n",
       "      <td>None</td>\n",
       "      <td>None</td>\n",
       "    </tr>\n",
       "    <tr>\n",
       "      <th>1</th>\n",
       "      <td>Finishers:</td>\n",
       "      <td>577]</td>\n",
       "      <td>None</td>\n",
       "      <td>None</td>\n",
       "      <td>None</td>\n",
       "      <td>None</td>\n",
       "      <td>None</td>\n",
       "      <td>None</td>\n",
       "      <td>None</td>\n",
       "    </tr>\n",
       "    <tr>\n",
       "      <th>2</th>\n",
       "      <td>Male:</td>\n",
       "      <td>414]</td>\n",
       "      <td>None</td>\n",
       "      <td>None</td>\n",
       "      <td>None</td>\n",
       "      <td>None</td>\n",
       "      <td>None</td>\n",
       "      <td>None</td>\n",
       "      <td>None</td>\n",
       "    </tr>\n",
       "    <tr>\n",
       "      <th>3</th>\n",
       "      <td>Female:</td>\n",
       "      <td>163]</td>\n",
       "      <td>None</td>\n",
       "      <td>None</td>\n",
       "      <td>None</td>\n",
       "      <td>None</td>\n",
       "      <td>None</td>\n",
       "      <td>None</td>\n",
       "      <td>None</td>\n",
       "    </tr>\n",
       "  </tbody>\n",
       "</table>\n",
       "</div>"
      ],
      "text/plain": [
       "       [Place    Bib   Name   Gender   City   State   Chip Time   Gun Time  \\\n",
       "0      [Place    Bib   Name   Gender   City   State   Chip Time   Gun Time   \n",
       "0           ]   None   None     None   None    None        None       None   \n",
       "1  Finishers:   577]   None     None   None    None        None       None   \n",
       "2       Male:   414]   None     None   None    None        None       None   \n",
       "3     Female:   163]   None     None   None    None        None       None   \n",
       "\n",
       "    Team]  \n",
       "0   Team]  \n",
       "0    None  \n",
       "1    None  \n",
       "2    None  \n",
       "3    None  "
      ]
     },
     "execution_count": 32,
     "metadata": {},
     "output_type": "execute_result"
    }
   ],
   "source": [
    "df5.head()"
   ]
  },
  {
   "cell_type": "code",
   "execution_count": 33,
   "id": "86792d01",
   "metadata": {},
   "outputs": [
    {
     "data": {
      "text/plain": [
       "(583, 9)"
      ]
     },
     "execution_count": 33,
     "metadata": {},
     "output_type": "execute_result"
    }
   ],
   "source": [
    "# Shape\n",
    "df5.shape"
   ]
  },
  {
   "cell_type": "code",
   "execution_count": 34,
   "id": "46ed00d6",
   "metadata": {},
   "outputs": [
    {
     "name": "stdout",
     "output_type": "stream",
     "text": [
      "<class 'pandas.core.frame.DataFrame'>\n",
      "Int64Index: 583 entries, 0 to 581\n",
      "Data columns (total 9 columns):\n",
      " #   Column      Non-Null Count  Dtype \n",
      "---  ------      --------------  ----- \n",
      " 0   [Place      583 non-null    object\n",
      " 1    Bib        581 non-null    object\n",
      " 2    Name       578 non-null    object\n",
      " 3    Gender     578 non-null    object\n",
      " 4    City       578 non-null    object\n",
      " 5    State      578 non-null    object\n",
      " 6    Chip Time  578 non-null    object\n",
      " 7    Gun Time   578 non-null    object\n",
      " 8    Team]      578 non-null    object\n",
      "dtypes: object(9)\n",
      "memory usage: 45.5+ KB\n"
     ]
    }
   ],
   "source": [
    "# Visão geral dos dados para análise\n",
    "df5.info()"
   ]
  },
  {
   "cell_type": "code",
   "execution_count": 35,
   "id": "4f030bc0",
   "metadata": {},
   "outputs": [
    {
     "data": {
      "text/plain": [
       "[Place        0\n",
       " Bib          2\n",
       " Name         5\n",
       " Gender       5\n",
       " City         5\n",
       " State        5\n",
       " Chip Time    5\n",
       " Gun Time     5\n",
       " Team]        5\n",
       "dtype: int64"
      ]
     },
     "execution_count": 35,
     "metadata": {},
     "output_type": "execute_result"
    }
   ],
   "source": [
    "# Verificar valores ausentes\n",
    "df5.isnull().sum()"
   ]
  },
  {
   "cell_type": "code",
   "execution_count": 36,
   "id": "45cd38e4",
   "metadata": {},
   "outputs": [
    {
     "data": {
      "text/html": [
       "<div>\n",
       "<style scoped>\n",
       "    .dataframe tbody tr th:only-of-type {\n",
       "        vertical-align: middle;\n",
       "    }\n",
       "\n",
       "    .dataframe tbody tr th {\n",
       "        vertical-align: top;\n",
       "    }\n",
       "\n",
       "    .dataframe thead th {\n",
       "        text-align: right;\n",
       "    }\n",
       "</style>\n",
       "<table border=\"1\" class=\"dataframe\">\n",
       "  <thead>\n",
       "    <tr style=\"text-align: right;\">\n",
       "      <th></th>\n",
       "      <th>[Place</th>\n",
       "      <th>Bib</th>\n",
       "      <th>Name</th>\n",
       "      <th>Gender</th>\n",
       "      <th>City</th>\n",
       "      <th>State</th>\n",
       "      <th>Chip Time</th>\n",
       "      <th>Gun Time</th>\n",
       "      <th>Team]</th>\n",
       "    </tr>\n",
       "  </thead>\n",
       "  <tbody>\n",
       "    <tr>\n",
       "      <th>0</th>\n",
       "      <td>[Place</td>\n",
       "      <td>Bib</td>\n",
       "      <td>Name</td>\n",
       "      <td>Gender</td>\n",
       "      <td>City</td>\n",
       "      <td>State</td>\n",
       "      <td>Chip Time</td>\n",
       "      <td>Gun Time</td>\n",
       "      <td>Team]</td>\n",
       "    </tr>\n",
       "    <tr>\n",
       "      <th>5</th>\n",
       "      <td>1</td>\n",
       "      <td>814</td>\n",
       "      <td>\\r\\n\\r\\n                    JARED WILSON\\r\\n\\...</td>\n",
       "      <td>M</td>\n",
       "      <td>TIGARD</td>\n",
       "      <td>OR</td>\n",
       "      <td>36:21</td>\n",
       "      <td>36:24</td>\n",
       "      <td>]</td>\n",
       "    </tr>\n",
       "    <tr>\n",
       "      <th>6</th>\n",
       "      <td>2</td>\n",
       "      <td>573</td>\n",
       "      <td>\\r\\n\\r\\n                    NATHAN A SUSTERSI...</td>\n",
       "      <td>M</td>\n",
       "      <td>PORTLAND</td>\n",
       "      <td>OR</td>\n",
       "      <td>36:42</td>\n",
       "      <td>36:45</td>\n",
       "      <td>\\n\\r\\n                            INTEL TEAM ...</td>\n",
       "    </tr>\n",
       "    <tr>\n",
       "      <th>7</th>\n",
       "      <td>3</td>\n",
       "      <td>687</td>\n",
       "      <td>\\r\\n\\r\\n                    FRANCISCO MAYA\\r\\...</td>\n",
       "      <td>M</td>\n",
       "      <td>PORTLAND</td>\n",
       "      <td>OR</td>\n",
       "      <td>37:44</td>\n",
       "      <td>37:48</td>\n",
       "      <td>]</td>\n",
       "    </tr>\n",
       "    <tr>\n",
       "      <th>8</th>\n",
       "      <td>4</td>\n",
       "      <td>623</td>\n",
       "      <td>\\r\\n\\r\\n                    PAUL MORROW\\r\\n\\r...</td>\n",
       "      <td>M</td>\n",
       "      <td>BEAVERTON</td>\n",
       "      <td>OR</td>\n",
       "      <td>38:34</td>\n",
       "      <td>38:37</td>\n",
       "      <td>]</td>\n",
       "    </tr>\n",
       "  </tbody>\n",
       "</table>\n",
       "</div>"
      ],
      "text/plain": [
       "   [Place   Bib                                               Name   Gender  \\\n",
       "0  [Place   Bib                                               Name   Gender   \n",
       "5       1   814   \\r\\n\\r\\n                    JARED WILSON\\r\\n\\...        M   \n",
       "6       2   573   \\r\\n\\r\\n                    NATHAN A SUSTERSI...        M   \n",
       "7       3   687   \\r\\n\\r\\n                    FRANCISCO MAYA\\r\\...        M   \n",
       "8       4   623   \\r\\n\\r\\n                    PAUL MORROW\\r\\n\\r...        M   \n",
       "\n",
       "         City   State   Chip Time   Gun Time  \\\n",
       "0        City   State   Chip Time   Gun Time   \n",
       "5      TIGARD      OR       36:21      36:24   \n",
       "6    PORTLAND      OR       36:42      36:45   \n",
       "7    PORTLAND      OR       37:44      37:48   \n",
       "8   BEAVERTON      OR       38:34      38:37   \n",
       "\n",
       "                                               Team]  \n",
       "0                                              Team]  \n",
       "5                                                  ]  \n",
       "6   \\n\\r\\n                            INTEL TEAM ...  \n",
       "7                                                  ]  \n",
       "8                                                  ]  "
      ]
     },
     "execution_count": 36,
     "metadata": {},
     "output_type": "execute_result"
    }
   ],
   "source": [
    "# removendo todas a linhas com valores ausentes\n",
    "df6 = df5.dropna(axis= 0, how= 'any')\n",
    "df6.head()"
   ]
  },
  {
   "cell_type": "code",
   "execution_count": 78,
   "id": "ca9a47c9",
   "metadata": {},
   "outputs": [
    {
     "data": {
      "text/html": [
       "<div>\n",
       "<style scoped>\n",
       "    .dataframe tbody tr th:only-of-type {\n",
       "        vertical-align: middle;\n",
       "    }\n",
       "\n",
       "    .dataframe tbody tr th {\n",
       "        vertical-align: top;\n",
       "    }\n",
       "\n",
       "    .dataframe thead th {\n",
       "        text-align: right;\n",
       "    }\n",
       "</style>\n",
       "<table border=\"1\" class=\"dataframe\">\n",
       "  <thead>\n",
       "    <tr style=\"text-align: right;\">\n",
       "      <th></th>\n",
       "      <th>[Place</th>\n",
       "      <th>Bib</th>\n",
       "      <th>Name</th>\n",
       "      <th>Gender</th>\n",
       "      <th>City</th>\n",
       "      <th>State</th>\n",
       "      <th>Chip Time</th>\n",
       "      <th>Gun Time</th>\n",
       "      <th>Team]</th>\n",
       "    </tr>\n",
       "  </thead>\n",
       "  <tbody>\n",
       "    <tr>\n",
       "      <th>5</th>\n",
       "      <td>1</td>\n",
       "      <td>814</td>\n",
       "      <td>\\r\\n\\r\\n                    JARED WILSON\\r\\n\\...</td>\n",
       "      <td>M</td>\n",
       "      <td>TIGARD</td>\n",
       "      <td>OR</td>\n",
       "      <td>36:21</td>\n",
       "      <td>36:24</td>\n",
       "      <td>]</td>\n",
       "    </tr>\n",
       "    <tr>\n",
       "      <th>6</th>\n",
       "      <td>2</td>\n",
       "      <td>573</td>\n",
       "      <td>\\r\\n\\r\\n                    NATHAN A SUSTERSI...</td>\n",
       "      <td>M</td>\n",
       "      <td>PORTLAND</td>\n",
       "      <td>OR</td>\n",
       "      <td>36:42</td>\n",
       "      <td>36:45</td>\n",
       "      <td>\\n\\r\\n                            INTEL TEAM ...</td>\n",
       "    </tr>\n",
       "    <tr>\n",
       "      <th>7</th>\n",
       "      <td>3</td>\n",
       "      <td>687</td>\n",
       "      <td>\\r\\n\\r\\n                    FRANCISCO MAYA\\r\\...</td>\n",
       "      <td>M</td>\n",
       "      <td>PORTLAND</td>\n",
       "      <td>OR</td>\n",
       "      <td>37:44</td>\n",
       "      <td>37:48</td>\n",
       "      <td>]</td>\n",
       "    </tr>\n",
       "    <tr>\n",
       "      <th>8</th>\n",
       "      <td>4</td>\n",
       "      <td>623</td>\n",
       "      <td>\\r\\n\\r\\n                    PAUL MORROW\\r\\n\\r...</td>\n",
       "      <td>M</td>\n",
       "      <td>BEAVERTON</td>\n",
       "      <td>OR</td>\n",
       "      <td>38:34</td>\n",
       "      <td>38:37</td>\n",
       "      <td>]</td>\n",
       "    </tr>\n",
       "    <tr>\n",
       "      <th>9</th>\n",
       "      <td>5</td>\n",
       "      <td>569</td>\n",
       "      <td>\\r\\n\\r\\n                    DEREK G OSBORNE\\r...</td>\n",
       "      <td>M</td>\n",
       "      <td>HILLSBORO</td>\n",
       "      <td>OR</td>\n",
       "      <td>39:21</td>\n",
       "      <td>39:24</td>\n",
       "      <td>\\n\\r\\n                            INTEL TEAM ...</td>\n",
       "    </tr>\n",
       "  </tbody>\n",
       "</table>\n",
       "</div>"
      ],
      "text/plain": [
       "  [Place   Bib                                               Name  Gender  \\\n",
       "5      1   814   \\r\\n\\r\\n                    JARED WILSON\\r\\n\\...       M   \n",
       "6      2   573   \\r\\n\\r\\n                    NATHAN A SUSTERSI...       M   \n",
       "7      3   687   \\r\\n\\r\\n                    FRANCISCO MAYA\\r\\...       M   \n",
       "8      4   623   \\r\\n\\r\\n                    PAUL MORROW\\r\\n\\r...       M   \n",
       "9      5   569   \\r\\n\\r\\n                    DEREK G OSBORNE\\r...       M   \n",
       "\n",
       "         City  State  Chip Time  Gun Time  \\\n",
       "5      TIGARD     OR      36:21     36:24   \n",
       "6    PORTLAND     OR      36:42     36:45   \n",
       "7    PORTLAND     OR      37:44     37:48   \n",
       "8   BEAVERTON     OR      38:34     38:37   \n",
       "9   HILLSBORO     OR      39:21     39:24   \n",
       "\n",
       "                                               Team]  \n",
       "5                                                  ]  \n",
       "6   \\n\\r\\n                            INTEL TEAM ...  \n",
       "7                                                  ]  \n",
       "8                                                  ]  \n",
       "9   \\n\\r\\n                            INTEL TEAM ...  "
      ]
     },
     "execution_count": 78,
     "metadata": {},
     "output_type": "execute_result"
    }
   ],
   "source": [
    "# Descartar o cabeçalho da tabela replicada como a primeira linha no df5\n",
    "df7 = df6.drop(df6.index[0])\n",
    "df7.head()"
   ]
  },
  {
   "cell_type": "code",
   "execution_count": 79,
   "id": "3f8db39b",
   "metadata": {},
   "outputs": [],
   "source": [
    "# Removendo as colunas [Place] & [Team]\n",
    "df7.rename(columns= {'[Place': 'Place'}, inplace = True)\n",
    "df7.rename(columns= {' Team]': 'Team'}, inplace = True)"
   ]
  },
  {
   "cell_type": "code",
   "execution_count": 80,
   "id": "15309fc8",
   "metadata": {},
   "outputs": [],
   "source": [
    "# Limpeza final dos dados - remoção do colchete de fechamento das células na coluna 'Team'\n",
    "df7['Team'] = df7['Team'].str.strip(']')"
   ]
  },
  {
   "cell_type": "code",
   "execution_count": 81,
   "id": "91ca2c9d",
   "metadata": {},
   "outputs": [
    {
     "data": {
      "text/html": [
       "<div>\n",
       "<style scoped>\n",
       "    .dataframe tbody tr th:only-of-type {\n",
       "        vertical-align: middle;\n",
       "    }\n",
       "\n",
       "    .dataframe tbody tr th {\n",
       "        vertical-align: top;\n",
       "    }\n",
       "\n",
       "    .dataframe thead th {\n",
       "        text-align: right;\n",
       "    }\n",
       "</style>\n",
       "<table border=\"1\" class=\"dataframe\">\n",
       "  <thead>\n",
       "    <tr style=\"text-align: right;\">\n",
       "      <th></th>\n",
       "      <th>Place</th>\n",
       "      <th>Bib</th>\n",
       "      <th>Name</th>\n",
       "      <th>Gender</th>\n",
       "      <th>City</th>\n",
       "      <th>State</th>\n",
       "      <th>Chip Time</th>\n",
       "      <th>Gun Time</th>\n",
       "      <th>Team</th>\n",
       "    </tr>\n",
       "  </thead>\n",
       "  <tbody>\n",
       "    <tr>\n",
       "      <th>5</th>\n",
       "      <td>1</td>\n",
       "      <td>814</td>\n",
       "      <td>\\r\\n\\r\\n                    JARED WILSON\\r\\n\\...</td>\n",
       "      <td>M</td>\n",
       "      <td>TIGARD</td>\n",
       "      <td>OR</td>\n",
       "      <td>36:21</td>\n",
       "      <td>36:24</td>\n",
       "      <td></td>\n",
       "    </tr>\n",
       "    <tr>\n",
       "      <th>6</th>\n",
       "      <td>2</td>\n",
       "      <td>573</td>\n",
       "      <td>\\r\\n\\r\\n                    NATHAN A SUSTERSI...</td>\n",
       "      <td>M</td>\n",
       "      <td>PORTLAND</td>\n",
       "      <td>OR</td>\n",
       "      <td>36:42</td>\n",
       "      <td>36:45</td>\n",
       "      <td>\\n\\r\\n                            INTEL TEAM ...</td>\n",
       "    </tr>\n",
       "    <tr>\n",
       "      <th>7</th>\n",
       "      <td>3</td>\n",
       "      <td>687</td>\n",
       "      <td>\\r\\n\\r\\n                    FRANCISCO MAYA\\r\\...</td>\n",
       "      <td>M</td>\n",
       "      <td>PORTLAND</td>\n",
       "      <td>OR</td>\n",
       "      <td>37:44</td>\n",
       "      <td>37:48</td>\n",
       "      <td></td>\n",
       "    </tr>\n",
       "    <tr>\n",
       "      <th>8</th>\n",
       "      <td>4</td>\n",
       "      <td>623</td>\n",
       "      <td>\\r\\n\\r\\n                    PAUL MORROW\\r\\n\\r...</td>\n",
       "      <td>M</td>\n",
       "      <td>BEAVERTON</td>\n",
       "      <td>OR</td>\n",
       "      <td>38:34</td>\n",
       "      <td>38:37</td>\n",
       "      <td></td>\n",
       "    </tr>\n",
       "    <tr>\n",
       "      <th>9</th>\n",
       "      <td>5</td>\n",
       "      <td>569</td>\n",
       "      <td>\\r\\n\\r\\n                    DEREK G OSBORNE\\r...</td>\n",
       "      <td>M</td>\n",
       "      <td>HILLSBORO</td>\n",
       "      <td>OR</td>\n",
       "      <td>39:21</td>\n",
       "      <td>39:24</td>\n",
       "      <td>\\n\\r\\n                            INTEL TEAM ...</td>\n",
       "    </tr>\n",
       "  </tbody>\n",
       "</table>\n",
       "</div>"
      ],
      "text/plain": [
       "  Place   Bib                                               Name  Gender  \\\n",
       "5     1   814   \\r\\n\\r\\n                    JARED WILSON\\r\\n\\...       M   \n",
       "6     2   573   \\r\\n\\r\\n                    NATHAN A SUSTERSI...       M   \n",
       "7     3   687   \\r\\n\\r\\n                    FRANCISCO MAYA\\r\\...       M   \n",
       "8     4   623   \\r\\n\\r\\n                    PAUL MORROW\\r\\n\\r...       M   \n",
       "9     5   569   \\r\\n\\r\\n                    DEREK G OSBORNE\\r...       M   \n",
       "\n",
       "         City  State  Chip Time  Gun Time  \\\n",
       "5      TIGARD     OR      36:21     36:24   \n",
       "6    PORTLAND     OR      36:42     36:45   \n",
       "7    PORTLAND     OR      37:44     37:48   \n",
       "8   BEAVERTON     OR      38:34     38:37   \n",
       "9   HILLSBORO     OR      39:21     39:24   \n",
       "\n",
       "                                                Team  \n",
       "5                                                     \n",
       "6   \\n\\r\\n                            INTEL TEAM ...  \n",
       "7                                                     \n",
       "8                                                     \n",
       "9   \\n\\r\\n                            INTEL TEAM ...  "
      ]
     },
     "execution_count": 81,
     "metadata": {},
     "output_type": "execute_result"
    }
   ],
   "source": [
    "df7.head()"
   ]
  },
  {
   "cell_type": "markdown",
   "id": "32cc1122",
   "metadata": {},
   "source": [
    "## Análise de Dados"
   ]
  },
  {
   "cell_type": "code",
   "execution_count": 82,
   "id": "ef500bfc",
   "metadata": {},
   "outputs": [],
   "source": [
    "# Converter a coluna 'Chip Time' em minutos\n",
    "\n",
    "# 'Chip Time' é o tempo total de corrida medido com a leitura do sensor RFID no selo da camisola do participante\n",
    "\n",
    "time_list = df7[' Chip Time'].tolist()"
   ]
  },
  {
   "cell_type": "code",
   "execution_count": 83,
   "id": "256b2a0e",
   "metadata": {},
   "outputs": [
    {
     "data": {
      "text/plain": [
       "[' 36:42', ' 37:44', ' 38:34', ' 39:21']"
      ]
     },
     "execution_count": 83,
     "metadata": {},
     "output_type": "execute_result"
    }
   ],
   "source": [
    "# Visualizar uma amostra de dados\n",
    "time_list[1:5]"
   ]
  },
  {
   "cell_type": "code",
   "execution_count": 84,
   "id": "4713ad24",
   "metadata": {},
   "outputs": [],
   "source": [
    "# Lista para receber o resultado da conversão\n",
    "time_mins = []"
   ]
  },
  {
   "cell_type": "code",
   "execution_count": 85,
   "id": "50c52ace",
   "metadata": {},
   "outputs": [],
   "source": [
    "# Loop para conversão\n",
    "for i in time_list:\n",
    "    i = i.strip(' ')\n",
    "    if len(i)!=7:\n",
    "        i = '0:' + i\n",
    "    h, m, s = i.split(':')\n",
    "    math = (int(h) * 3600 + int(m) * 60 + int(s))/60\n",
    "    time_mins.append(math)"
   ]
  },
  {
   "cell_type": "markdown",
   "id": "4d28a91d",
   "metadata": {},
   "source": [
    "Convertendo a lista novamente num dataframe e cramos uma nova coluna (\"Runner_mins\") como tempo total da corrida, mas agora em minutos"
   ]
  },
  {
   "cell_type": "code",
   "execution_count": 86,
   "id": "55f47d90",
   "metadata": {},
   "outputs": [],
   "source": [
    "# Nova coluna \n",
    "df7['Runner_mins'] = pd.Series(time_mins)"
   ]
  },
  {
   "cell_type": "code",
   "execution_count": 87,
   "id": "1fffeaba",
   "metadata": {},
   "outputs": [
    {
     "data": {
      "text/html": [
       "<div>\n",
       "<style scoped>\n",
       "    .dataframe tbody tr th:only-of-type {\n",
       "        vertical-align: middle;\n",
       "    }\n",
       "\n",
       "    .dataframe tbody tr th {\n",
       "        vertical-align: top;\n",
       "    }\n",
       "\n",
       "    .dataframe thead th {\n",
       "        text-align: right;\n",
       "    }\n",
       "</style>\n",
       "<table border=\"1\" class=\"dataframe\">\n",
       "  <thead>\n",
       "    <tr style=\"text-align: right;\">\n",
       "      <th></th>\n",
       "      <th>Place</th>\n",
       "      <th>Bib</th>\n",
       "      <th>Name</th>\n",
       "      <th>Gender</th>\n",
       "      <th>City</th>\n",
       "      <th>State</th>\n",
       "      <th>Chip Time</th>\n",
       "      <th>Gun Time</th>\n",
       "      <th>Team</th>\n",
       "      <th>Runner_mins</th>\n",
       "    </tr>\n",
       "  </thead>\n",
       "  <tbody>\n",
       "    <tr>\n",
       "      <th>5</th>\n",
       "      <td>1</td>\n",
       "      <td>814</td>\n",
       "      <td>\\r\\n\\r\\n                    JARED WILSON\\r\\n\\...</td>\n",
       "      <td>M</td>\n",
       "      <td>TIGARD</td>\n",
       "      <td>OR</td>\n",
       "      <td>36:21</td>\n",
       "      <td>36:24</td>\n",
       "      <td></td>\n",
       "      <td>39.816667</td>\n",
       "    </tr>\n",
       "    <tr>\n",
       "      <th>6</th>\n",
       "      <td>2</td>\n",
       "      <td>573</td>\n",
       "      <td>\\r\\n\\r\\n                    NATHAN A SUSTERSI...</td>\n",
       "      <td>M</td>\n",
       "      <td>PORTLAND</td>\n",
       "      <td>OR</td>\n",
       "      <td>36:42</td>\n",
       "      <td>36:45</td>\n",
       "      <td>\\n\\r\\n                            INTEL TEAM ...</td>\n",
       "      <td>40.066667</td>\n",
       "    </tr>\n",
       "    <tr>\n",
       "      <th>7</th>\n",
       "      <td>3</td>\n",
       "      <td>687</td>\n",
       "      <td>\\r\\n\\r\\n                    FRANCISCO MAYA\\r\\...</td>\n",
       "      <td>M</td>\n",
       "      <td>PORTLAND</td>\n",
       "      <td>OR</td>\n",
       "      <td>37:44</td>\n",
       "      <td>37:48</td>\n",
       "      <td></td>\n",
       "      <td>40.083333</td>\n",
       "    </tr>\n",
       "    <tr>\n",
       "      <th>8</th>\n",
       "      <td>4</td>\n",
       "      <td>623</td>\n",
       "      <td>\\r\\n\\r\\n                    PAUL MORROW\\r\\n\\r...</td>\n",
       "      <td>M</td>\n",
       "      <td>BEAVERTON</td>\n",
       "      <td>OR</td>\n",
       "      <td>38:34</td>\n",
       "      <td>38:37</td>\n",
       "      <td></td>\n",
       "      <td>40.283333</td>\n",
       "    </tr>\n",
       "    <tr>\n",
       "      <th>9</th>\n",
       "      <td>5</td>\n",
       "      <td>569</td>\n",
       "      <td>\\r\\n\\r\\n                    DEREK G OSBORNE\\r...</td>\n",
       "      <td>M</td>\n",
       "      <td>HILLSBORO</td>\n",
       "      <td>OR</td>\n",
       "      <td>39:21</td>\n",
       "      <td>39:24</td>\n",
       "      <td>\\n\\r\\n                            INTEL TEAM ...</td>\n",
       "      <td>40.350000</td>\n",
       "    </tr>\n",
       "  </tbody>\n",
       "</table>\n",
       "</div>"
      ],
      "text/plain": [
       "  Place   Bib                                               Name  Gender  \\\n",
       "5     1   814   \\r\\n\\r\\n                    JARED WILSON\\r\\n\\...       M   \n",
       "6     2   573   \\r\\n\\r\\n                    NATHAN A SUSTERSI...       M   \n",
       "7     3   687   \\r\\n\\r\\n                    FRANCISCO MAYA\\r\\...       M   \n",
       "8     4   623   \\r\\n\\r\\n                    PAUL MORROW\\r\\n\\r...       M   \n",
       "9     5   569   \\r\\n\\r\\n                    DEREK G OSBORNE\\r...       M   \n",
       "\n",
       "         City  State  Chip Time  Gun Time  \\\n",
       "5      TIGARD     OR      36:21     36:24   \n",
       "6    PORTLAND     OR      36:42     36:45   \n",
       "7    PORTLAND     OR      37:44     37:48   \n",
       "8   BEAVERTON     OR      38:34     38:37   \n",
       "9   HILLSBORO     OR      39:21     39:24   \n",
       "\n",
       "                                                Team  Runner_mins  \n",
       "5                                                       39.816667  \n",
       "6   \\n\\r\\n                            INTEL TEAM ...    40.066667  \n",
       "7                                                       40.083333  \n",
       "8                                                       40.283333  \n",
       "9   \\n\\r\\n                            INTEL TEAM ...    40.350000  "
      ]
     },
     "execution_count": 87,
     "metadata": {},
     "output_type": "execute_result"
    }
   ],
   "source": [
    "df7.head()"
   ]
  },
  {
   "cell_type": "code",
   "execution_count": 88,
   "id": "e009ffda",
   "metadata": {},
   "outputs": [
    {
     "data": {
      "text/plain": [
       "Place           object\n",
       " Bib            object\n",
       " Name           object\n",
       " Gender         object\n",
       " City           object\n",
       " State          object\n",
       " Chip Time      object\n",
       " Gun Time       object\n",
       "Team            object\n",
       "Runner_mins    float64\n",
       "dtype: object"
      ]
     },
     "execution_count": 88,
     "metadata": {},
     "output_type": "execute_result"
    }
   ],
   "source": [
    "df7.dtypes"
   ]
  },
  {
   "cell_type": "code",
   "execution_count": 94,
   "id": "73d69535",
   "metadata": {},
   "outputs": [
    {
     "data": {
      "text/html": [
       "<div>\n",
       "<style scoped>\n",
       "    .dataframe tbody tr th:only-of-type {\n",
       "        vertical-align: middle;\n",
       "    }\n",
       "\n",
       "    .dataframe tbody tr th {\n",
       "        vertical-align: top;\n",
       "    }\n",
       "\n",
       "    .dataframe thead th {\n",
       "        text-align: right;\n",
       "    }\n",
       "</style>\n",
       "<table border=\"1\" class=\"dataframe\">\n",
       "  <thead>\n",
       "    <tr style=\"text-align: right;\">\n",
       "      <th></th>\n",
       "      <th>Runner_mins</th>\n",
       "    </tr>\n",
       "  </thead>\n",
       "  <tbody>\n",
       "    <tr>\n",
       "      <th>count</th>\n",
       "      <td>572.000000</td>\n",
       "    </tr>\n",
       "    <tr>\n",
       "      <th>mean</th>\n",
       "      <td>60.230828</td>\n",
       "    </tr>\n",
       "    <tr>\n",
       "      <th>std</th>\n",
       "      <td>11.838436</td>\n",
       "    </tr>\n",
       "    <tr>\n",
       "      <th>min</th>\n",
       "      <td>39.816667</td>\n",
       "    </tr>\n",
       "    <tr>\n",
       "      <th>25%</th>\n",
       "      <td>51.125000</td>\n",
       "    </tr>\n",
       "    <tr>\n",
       "      <th>50%</th>\n",
       "      <td>59.250000</td>\n",
       "    </tr>\n",
       "    <tr>\n",
       "      <th>75%</th>\n",
       "      <td>67.275000</td>\n",
       "    </tr>\n",
       "    <tr>\n",
       "      <th>max</th>\n",
       "      <td>101.300000</td>\n",
       "    </tr>\n",
       "  </tbody>\n",
       "</table>\n",
       "</div>"
      ],
      "text/plain": [
       "       Runner_mins\n",
       "count   572.000000\n",
       "mean     60.230828\n",
       "std      11.838436\n",
       "min      39.816667\n",
       "25%      51.125000\n",
       "50%      59.250000\n",
       "75%      67.275000\n",
       "max     101.300000"
      ]
     },
     "execution_count": 94,
     "metadata": {},
     "output_type": "execute_result"
    }
   ],
   "source": [
    "# Cálculo de estatistícas para colunas numéricas no dataframe\n",
    "df7.describe(include= [np.number])"
   ]
  },
  {
   "cell_type": "markdown",
   "id": "e3741b68",
   "metadata": {},
   "source": [
    "**Análise**:\n",
    "\n",
    "- O tempo médio de chip para todos os corredores foi de ~ 60 minutos (a média na tabela acima).\n",
    "- O corredor 10K mais rápido terminou em 39,81 minutos (valor mínimo na tabela acima).\n",
    "- O corredor mais lento terminou em 101,30 minutos (valor máximo na tabela acima)."
   ]
  },
  {
   "cell_type": "markdown",
   "id": "abb663bd",
   "metadata": {},
   "source": [
    "Vamos criar um boxplot para sumarizar nossa análise."
   ]
  },
  {
   "cell_type": "code",
   "execution_count": 110,
   "id": "34093f9b",
   "metadata": {},
   "outputs": [
    {
     "data": {
      "image/png": "[encoded data removed]",
      "text/plain": [
       "<Figure size 432x288 with 1 Axes>"
      ]
     },
     "metadata": {
      "needs_background": "light"
     },
     "output_type": "display_data"
    }
   ],
   "source": [
    "# Plot\n",
    "ax = sns.boxplot(x = df7[\"Runner_mins\"], palette = \"Set3\")\n",
    "plt.ylabel('Chip Time')\n",
    "plt.xlabel('Runners')\n",
    "plt.show()"
   ]
  },
  {
   "cell_type": "markdown",
   "id": "69accfff",
   "metadata": {},
   "source": [
    "Criaremos agora um gráfico de distribuição dos tempos dos chips dos corredores usando a biblioteca seaborn."
   ]
  },
  {
   "cell_type": "code",
   "execution_count": 104,
   "id": "62f722b3",
   "metadata": {},
   "outputs": [
    {
     "data": {
      "image/png": "[encoded data removed]",
      "text/plain": [
       "<Figure size 432x288 with 1 Axes>"
      ]
     },
     "metadata": {
      "needs_background": "light"
     },
     "output_type": "display_data"
    }
   ],
   "source": [
    "# Plot\n",
    "x = df7['Runner_mins']\n",
    "ax = sns.distplot(x, hist = True, kde = True, rug = False, color = 'blue', bins = 25, hist_kws = {'edgecolor':'black'})\n",
    "plt.show()"
   ]
  },
  {
   "cell_type": "markdown",
   "id": "3c0f3fad",
   "metadata": {},
   "source": [
    "A distribuição da variável parece quase normal. Mas vamos realizar um teste estatístico para confirmar.\n",
    "\n",
    "O pacote stats do SciPy fornece uma função para um dos testes de normalidade mais comuns, o Shapiro-Wilk Test. Usaremos ainda a função normality do pacote Pengouin.\n",
    "\n",
    "**A hipótese nula deste teste é que a população é normalmente distribuída. Assim, se o valor-p for menor que o nível alfa escolhido (normalmente definido em 0,05), a hipótese nula será rejeitada e há evidências de que os dados testados não são normalmente distribuídos.**\n",
    "\n",
    "O resultado do teste de Shapiro-Wilk deve ser interpretado com cautela no caso de amostras grandes."
   ]
  },
  {
   "cell_type": "code",
   "execution_count": 111,
   "id": "ccef88c5",
   "metadata": {},
   "outputs": [],
   "source": [
    "# Valor de x\n",
    "x = df7['Runner_mins']"
   ]
  },
  {
   "cell_type": "code",
   "execution_count": 112,
   "id": "aacb6f37",
   "metadata": {},
   "outputs": [
    {
     "data": {
      "text/plain": [
       "ShapiroResult(statistic=nan, pvalue=1.0)"
      ]
     },
     "execution_count": 112,
     "metadata": {},
     "output_type": "execute_result"
    }
   ],
   "source": [
    "# Teste de normalidade com Scipy\n",
    "stats.shapiro(x)"
   ]
  },
  {
   "cell_type": "code",
   "execution_count": 113,
   "id": "62dae7f8",
   "metadata": {},
   "outputs": [
    {
     "data": {
      "text/html": [
       "<div>\n",
       "<style scoped>\n",
       "    .dataframe tbody tr th:only-of-type {\n",
       "        vertical-align: middle;\n",
       "    }\n",
       "\n",
       "    .dataframe tbody tr th {\n",
       "        vertical-align: top;\n",
       "    }\n",
       "\n",
       "    .dataframe thead th {\n",
       "        text-align: right;\n",
       "    }\n",
       "</style>\n",
       "<table border=\"1\" class=\"dataframe\">\n",
       "  <thead>\n",
       "    <tr style=\"text-align: right;\">\n",
       "      <th></th>\n",
       "      <th>W</th>\n",
       "      <th>pval</th>\n",
       "      <th>normal</th>\n",
       "    </tr>\n",
       "  </thead>\n",
       "  <tbody>\n",
       "    <tr>\n",
       "      <th>Runner_mins</th>\n",
       "      <td>0.956769</td>\n",
       "      <td>6.547689e-12</td>\n",
       "      <td>False</td>\n",
       "    </tr>\n",
       "  </tbody>\n",
       "</table>\n",
       "</div>"
      ],
      "text/plain": [
       "                    W          pval  normal\n",
       "Runner_mins  0.956769  6.547689e-12   False"
      ]
     },
     "execution_count": 113,
     "metadata": {},
     "output_type": "execute_result"
    }
   ],
   "source": [
    "# Teste de normalidade com Pingouin\n",
    "pg.normality(x)"
   ]
  },
  {
   "cell_type": "markdown",
   "id": "e77a5abb",
   "metadata": {},
   "source": [
    "**Análise**:\n",
    "\n",
    "- A variável não segue uma distribuição normal, uma vez que o valor-p é menor que 0.05 e assim há evidências estatísticas para rejeitar a hipótese nula. A função normality() do pacote Pingouin coloca essa informação na última coluna."
   ]
  },
  {
   "cell_type": "markdown",
   "id": "0f2ca182",
   "metadata": {},
   "source": [
    "Vamos agora descobrir se houve alguma diferença de desempenho entre homens e mulheres de várias faixas etárias."
   ]
  },
  {
   "cell_type": "code",
   "execution_count": 114,
   "id": "67820cab",
   "metadata": {},
   "outputs": [],
   "source": [
    "# Separando os dados\n",
    "f_runners = df7.loc[df7[' Gender'] == ' F']['Runner_mins']\n",
    "m_runners = df7.loc[df7[' Gender'] == ' M']['Runner_mins']"
   ]
  },
  {
   "cell_type": "code",
   "execution_count": 118,
   "id": "3d0d8ee5",
   "metadata": {},
   "outputs": [
    {
     "data": {
      "image/png": "[encoded data removed]",
      "text/plain": [
       "<Figure size 432x288 with 1 Axes>"
      ]
     },
     "metadata": {
      "needs_background": "light"
     },
     "output_type": "display_data"
    }
   ],
   "source": [
    "# Criaremos os 2 plots em uma só figura para facilitar a comparação\n",
    "sns.distplot(f_runners, hist = True, kde = True, rug = False, hist_kws = {'edgecolor':'black'}, label = 'Mulher')\n",
    "sns.distplot(m_runners, hist = False, kde = True, rug = False, hist_kws = {'edgecolor':'black'}, label = 'Homem')\n",
    "plt.legend();"
   ]
  },
  {
   "cell_type": "markdown",
   "id": "2c425055",
   "metadata": {},
   "source": [
    "**Análise**:\n",
    "\n",
    "- A distribuição indica que as mulheres eram mais lentas que os homens, em média."
   ]
  },
  {
   "cell_type": "code",
   "execution_count": 119,
   "id": "d754db11",
   "metadata": {},
   "outputs": [
    {
     "data": {
      "text/html": [
       "<div>\n",
       "<style scoped>\n",
       "    .dataframe tbody tr th:only-of-type {\n",
       "        vertical-align: middle;\n",
       "    }\n",
       "\n",
       "    .dataframe tbody tr th {\n",
       "        vertical-align: top;\n",
       "    }\n",
       "\n",
       "    .dataframe thead tr th {\n",
       "        text-align: left;\n",
       "    }\n",
       "\n",
       "    .dataframe thead tr:last-of-type th {\n",
       "        text-align: right;\n",
       "    }\n",
       "</style>\n",
       "<table border=\"1\" class=\"dataframe\">\n",
       "  <thead>\n",
       "    <tr>\n",
       "      <th></th>\n",
       "      <th colspan=\"8\" halign=\"left\">Runner_mins</th>\n",
       "    </tr>\n",
       "    <tr>\n",
       "      <th></th>\n",
       "      <th>count</th>\n",
       "      <th>mean</th>\n",
       "      <th>std</th>\n",
       "      <th>min</th>\n",
       "      <th>25%</th>\n",
       "      <th>50%</th>\n",
       "      <th>75%</th>\n",
       "      <th>max</th>\n",
       "    </tr>\n",
       "    <tr>\n",
       "      <th>Gender</th>\n",
       "      <th></th>\n",
       "      <th></th>\n",
       "      <th></th>\n",
       "      <th></th>\n",
       "      <th></th>\n",
       "      <th></th>\n",
       "      <th></th>\n",
       "      <th></th>\n",
       "    </tr>\n",
       "  </thead>\n",
       "  <tbody>\n",
       "    <tr>\n",
       "      <th>F</th>\n",
       "      <td>159.0</td>\n",
       "      <td>65.988260</td>\n",
       "      <td>11.862212</td>\n",
       "      <td>44.100000</td>\n",
       "      <td>58.908333</td>\n",
       "      <td>64.583333</td>\n",
       "      <td>72.016667</td>\n",
       "      <td>100.783333</td>\n",
       "    </tr>\n",
       "    <tr>\n",
       "      <th>M</th>\n",
       "      <td>413.0</td>\n",
       "      <td>58.014286</td>\n",
       "      <td>11.070460</td>\n",
       "      <td>39.816667</td>\n",
       "      <td>49.700000</td>\n",
       "      <td>56.216667</td>\n",
       "      <td>64.933333</td>\n",
       "      <td>101.300000</td>\n",
       "    </tr>\n",
       "  </tbody>\n",
       "</table>\n",
       "</div>"
      ],
      "text/plain": [
       "        Runner_mins                                                         \\\n",
       "              count       mean        std        min        25%        50%   \n",
       " Gender                                                                      \n",
       " F            159.0  65.988260  11.862212  44.100000  58.908333  64.583333   \n",
       " M            413.0  58.014286  11.070460  39.816667  49.700000  56.216667   \n",
       "\n",
       "                                \n",
       "               75%         max  \n",
       " Gender                         \n",
       " F       72.016667  100.783333  \n",
       " M       64.933333  101.300000  "
      ]
     },
     "execution_count": 119,
     "metadata": {},
     "output_type": "execute_result"
    }
   ],
   "source": [
    "# Resumo das estatísticas para homens e mulheres separadamente usando o método groupby ()\n",
    "g_stats = df7.groupby(\" Gender\", as_index = True).describe()\n",
    "g_stats"
   ]
  },
  {
   "cell_type": "markdown",
   "id": "78f8769a",
   "metadata": {},
   "source": [
    "**Análise**:\n",
    "    \n",
    "- O tempo médio de chip para todas as mulheres e homens foi de ~ 66 minutos e ~ 58 minutos, respectivamente, comprovando a análise do gráfico."
   ]
  },
  {
   "cell_type": "markdown",
   "id": "593c0fdb",
   "metadata": {},
   "source": [
    "Um boxplot ajuda a comparar as amostras de homens e mulheres."
   ]
  },
  {
   "cell_type": "code",
   "execution_count": 121,
   "id": "8da77758",
   "metadata": {},
   "outputs": [
    {
     "data": {
      "image/png": "[encoded data removed]",
      "text/plain": [
       "<Figure size 432x288 with 1 Axes>"
      ]
     },
     "metadata": {
      "needs_background": "light"
     },
     "output_type": "display_data"
    }
   ],
   "source": [
    "# Plot\n",
    "df7.boxplot(column = 'Runner_mins', by = ' Gender')\n",
    "plt.ylabel('Chip Time')\n",
    "plt.suptitle(\"\");"
   ]
  },
  {
   "cell_type": "markdown",
   "id": "36df4b90",
   "metadata": {},
   "source": [
    "# Fim"
   ]
  },
  {
   "cell_type": "code",
   "execution_count": null,
   "id": "f1e925fb",
   "metadata": {},
   "outputs": [],
   "source": []
  }
 ],
 "metadata": {
  "kernelspec": {
   "display_name": "Python 3 (ipykernel)",
   "language": "python",
   "name": "python3"
  },
  "language_info": {
   "codemirror_mode": {
    "name": "ipython",
    "version": 3
   },
   "file_extension": ".py",
   "mimetype": "text/x-python",
   "name": "python",
   "nbconvert_exporter": "python",
   "pygments_lexer": "ipython3",
   "version": "3.9.7"
  }
 },
 "nbformat": 4,
 "nbformat_minor": 5
}
